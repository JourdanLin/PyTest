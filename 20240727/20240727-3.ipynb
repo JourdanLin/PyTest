{
 "cells": [
  {
   "cell_type": "code",
   "execution_count": 14,
   "metadata": {},
   "outputs": [
    {
     "data": {
      "text/plain": [
       "True"
      ]
     },
     "execution_count": 14,
     "metadata": {},
     "output_type": "execute_result"
    }
   ],
   "source": [
    "2>3\n",
    "3!=3\n",
    "3==3"
   ]
  },
  {
   "cell_type": "code",
   "execution_count": 11,
   "metadata": {},
   "outputs": [
    {
     "name": "stdout",
     "output_type": "stream",
     "text": [
      "none age\n"
     ]
    }
   ],
   "source": [
    "age = 17\n",
    "if age < 18:\n",
    " print(\"none age\")\n",
    "else:\n",
    " print(\"age is aduit\")"
   ]
  },
  {
   "cell_type": "code",
   "execution_count": 21,
   "metadata": {},
   "outputs": [
    {
     "name": "stdout",
     "output_type": "stream",
     "text": [
      "joe\n",
      "58\n",
      "25\n",
      "['joe', 58, 25, 33]\n"
     ]
    }
   ],
   "source": [
    "# list\n",
    "student = ['joe',58,25,33]\n",
    "print (student[0])\n",
    "print (student[1])\n",
    "print (student[2])\n",
    "print (student)"
   ]
  }
 ],
 "metadata": {
  "kernelspec": {
   "display_name": "venv1",
   "language": "python",
   "name": "python3"
  },
  "language_info": {
   "codemirror_mode": {
    "name": "ipython",
    "version": 3
   },
   "file_extension": ".py",
   "mimetype": "text/x-python",
   "name": "python",
   "nbconvert_exporter": "python",
   "pygments_lexer": "ipython3",
   "version": "3.11.2"
  }
 },
 "nbformat": 4,
 "nbformat_minor": 2
}
