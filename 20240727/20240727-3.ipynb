{
 "cells": [
  {
   "cell_type": "code",
   "execution_count": 52,
   "metadata": {},
   "outputs": [
    {
     "name": "stdout",
     "output_type": "stream",
     "text": [
      "<class 'datetime.datetime'>\n",
      "2024\n",
      "7\n",
      "27\n",
      "16\n",
      "2\n",
      "25\n",
      "2024-07-27 16:02:25\n"
     ]
    }
   ],
   "source": [
    "from datetime import datetime\n",
    "now  = datetime.now()\n",
    "now_str = now.strftime(\"%Y-%m-%d %H:%M:%S\")\n",
    "\n",
    "print (type(now))\n",
    "print (now.year)\n",
    "print (now.month)\n",
    "print (now.day)\n",
    "print (now.hour)\n",
    "print (now.minute)\n",
    "print (now.second)\n",
    "\n",
    "print (now_str)\n",
    "\n"
   ]
  },
  {
   "cell_type": "code",
   "execution_count": 48,
   "metadata": {},
   "outputs": [
    {
     "data": {
      "text/plain": [
       "'2024-07-27 15:46:46'"
      ]
     },
     "execution_count": 48,
     "metadata": {},
     "output_type": "execute_result"
    }
   ],
   "source": [
    "now.strftime(\"%Y-%m-%d %H:%M:%S\")"
   ]
  },
  {
   "cell_type": "code",
   "execution_count": 33,
   "metadata": {},
   "outputs": [
    {
     "name": "stdout",
     "output_type": "stream",
     "text": [
      "/home/pi/Documents/Github/PyTest/20240727/__main__\n",
      "/home/pi/Documents/Github/PyTest/20240727\n",
      "the data already exit:   /home/pi/Documents/Github/PyTest/20240727/data\n",
      "logflie is local at ->    /home/pi/Documents/Github/PyTest/20240727/data/iot.log\n",
      "no log exit, will do the file creation the file\n"
     ]
    }
   ],
   "source": [
    "import os.path\n",
    "#使用內建的 os.path\n",
    "current_path = os.path.abspath (__name__) #path name\n",
    "print(current_path)\n",
    "current_dir = os.path.dirname (current_path)\n",
    "print(current_dir)\n",
    "data_path = os.path.join(current_dir,'data')\n",
    "os.path.isdir(data_path)\n",
    "\n",
    "if not os.path.isdir(data_path):\n",
    "    os.mkdir(data_path)\n",
    "    print(\"Process dir\")\n",
    "else:\n",
    "    print(\"the data already exit:  \" , data_path)\n",
    "\n",
    "\n",
    "iot_pathWithName = os.path.join(data_path, 'iot.log')\n",
    "\n",
    "print(\"logflie is local at ->   \" ,iot_pathWithName)\n",
    "\n",
    "if not os.path.isfile(iot_pathWithName):\n",
    "    print(\"no log exit, will do the file creation the file\")\n",
    "    with  open(iot_pathWithName,mode='w',encoding='utf-8', newline='') as file:\n",
    "        file.write('DateTime,H,T\\n')\n",
    "    # file.close()\n",
    "else:\n",
    "    print(\"file already exit ->>  \", iot_pathWithName )\n",
    "\n"
   ]
  },
  {
   "cell_type": "code",
   "execution_count": 53,
   "metadata": {},
   "outputs": [],
   "source": [
    "from datetime import datetime\n",
    "now  = datetime.now()\n",
    "now_str = now.strftime(\"%Y-%m-%d %H:%M:%S\")\n",
    "\n",
    "\n",
    "with open (iot_pathWithName,mode='a',encoding='utf-8',newline=\"\") as file:\n",
    "    file.write(now_str + ', 61.4, 32.1\\n')\n",
    "    \n"
   ]
  }
 ],
 "metadata": {
  "kernelspec": {
   "display_name": "venv1",
   "language": "python",
   "name": "python3"
  },
  "language_info": {
   "codemirror_mode": {
    "name": "ipython",
    "version": 3
   },
   "file_extension": ".py",
   "mimetype": "text/x-python",
   "name": "python",
   "nbconvert_exporter": "python",
   "pygments_lexer": "ipython3",
   "version": "3.11.2"
  }
 },
 "nbformat": 4,
 "nbformat_minor": 2
}
