{
 "cells": [
  {
   "cell_type": "code",
   "execution_count": null,
   "metadata": {},
   "outputs": [],
   "source": []
  },
  {
   "cell_type": "code",
   "execution_count": 19,
   "metadata": {},
   "outputs": [
    {
     "name": "stdout",
     "output_type": "stream",
     "text": [
      "/home/pi/Documents/Github/PyTest/20240727/__main__\n",
      "/home/pi/Documents/Github/PyTest/20240727\n",
      "the data already exit:   /home/pi/Documents/Github/PyTest/20240727/data\n",
      "logflie is local at ->    /home/pi/Documents/Github/PyTest/20240727/data/iot.log\n",
      "no log\n"
     ]
    }
   ],
   "source": [
    "import os.path\n",
    "current_path = os.path.abspath (__name__)\n",
    "print(current_path)\n",
    "current_dir = os.path.dirname (current_path)\n",
    "print(current_dir)\n",
    "data_path = os.path.join(current_dir,'data')\n",
    "os.path.isdir(data_path)\n",
    "\n",
    "if not os.path.isdir(data_path):\n",
    "    os.mkdir(data_path)\n",
    "    print(\"Process dir\")\n",
    "else:\n",
    "    print(\"the data already exit:  \" , data_path)\n",
    "\n",
    "\n",
    "iot_path = os.path.join(data_path, 'iot.log')\n",
    "\n",
    "print(\"logflie is local at ->   \" ,iot_path)\n",
    "\n",
    "if not os.path.isfile(iot_path):\n",
    "    print(\"no log\")\n",
    "else:\n",
    "    print(\"file exit\")\n",
    "\n"
   ]
  }
 ],
 "metadata": {
  "kernelspec": {
   "display_name": "venv1",
   "language": "python",
   "name": "python3"
  },
  "language_info": {
   "codemirror_mode": {
    "name": "ipython",
    "version": 3
   },
   "file_extension": ".py",
   "mimetype": "text/x-python",
   "name": "python",
   "nbconvert_exporter": "python",
   "pygments_lexer": "ipython3",
   "version": "3.11.2"
  }
 },
 "nbformat": 4,
 "nbformat_minor": 2
}
