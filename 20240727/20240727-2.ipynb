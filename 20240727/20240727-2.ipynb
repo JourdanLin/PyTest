{
 "cells": [
  {
   "cell_type": "code",
   "execution_count": 7,
   "metadata": {},
   "outputs": [
    {
     "data": {
      "text/plain": [
       "True"
      ]
     },
     "execution_count": 7,
     "metadata": {},
     "output_type": "execute_result"
    }
   ],
   "source": [
    "2>3\n",
    "3!=3\n",
    "3==3"
   ]
  },
  {
   "cell_type": "code",
   "execution_count": 17,
   "metadata": {},
   "outputs": [
    {
     "name": "stdout",
     "output_type": "stream",
     "text": [
      "<class 'dict'>\n",
      "Joe\n",
      "dict_items([('name', 'Joe'), ('Englsih', 58), ('Chinese', 25), ('Math', 33)])\n",
      "['name', 'Englsih', 'Chinese', 'Math']\n",
      "dict_items([('name', 'Joe'), ('Englsih', 58), ('Chinese', 25), ('Math', 33)])\n"
     ]
    }
   ],
   "source": [
    "student = {\"name\":\"Joe\",\n",
    "           \"Englsih\": 58,\n",
    "           \"Chinese\": 25,\n",
    "           \"Math\": 33}\n",
    "print(type(student))\n",
    "print(student[\"name\"])\n",
    "print(student.items())\n",
    "# print(student.pop('name'))\n",
    "print(list(student))\n",
    "print(student.items())"
   ]
  },
  {
   "cell_type": "code",
   "execution_count": null,
   "metadata": {},
   "outputs": [
    {
     "name": "stdout",
     "output_type": "stream",
     "text": [
      "none age\n"
     ]
    }
   ],
   "source": [
    "age = 17\n",
    "if age < 18:\n",
    " print(\"none age\")\n",
    "else:\n",
    " print(\"age is aduit\")"
   ]
  },
  {
   "cell_type": "code",
   "execution_count": null,
   "metadata": {},
   "outputs": [
    {
     "name": "stdout",
     "output_type": "stream",
     "text": [
      "joe\n",
      "58\n",
      "25\n",
      "<class 'int'>\n",
      "['joe', 25, 33, 45]\n"
     ]
    }
   ],
   "source": [
    "# list\n",
    "student = ['joe',58,25,33]\n",
    "print (student[0])\n",
    "print (student[1])\n",
    "print (student[2])\n",
    "print (type(student[1]))\n",
    "student.append(45)\n",
    "student.pop(1)\n",
    "print (student)\n"
   ]
  }
 ],
 "metadata": {
  "kernelspec": {
   "display_name": "venv1",
   "language": "python",
   "name": "python3"
  },
  "language_info": {
   "codemirror_mode": {
    "name": "ipython",
    "version": 3
   },
   "file_extension": ".py",
   "mimetype": "text/x-python",
   "name": "python",
   "nbconvert_exporter": "python",
   "pygments_lexer": "ipython3",
   "version": "3.11.2"
  }
 },
 "nbformat": 4,
 "nbformat_minor": 2
}
